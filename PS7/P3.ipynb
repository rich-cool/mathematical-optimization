{
 "cells": [
  {
   "cell_type": "code",
   "execution_count": 1,
   "metadata": {},
   "outputs": [],
   "source": [
    "import numpy as np"
   ]
  },
  {
   "cell_type": "code",
   "execution_count": 2,
   "metadata": {},
   "outputs": [],
   "source": [
    "class simplex:\n",
    "    def __init__(self, A):\n",
    "        self.A = A\n",
    "        self.B = {}\n",
    "        self.N = {}\n",
    "        self.xb = np.zeros((A.shape[0] - 1))\n",
    "        self.steps = 1\n",
    "        \n",
    "        self.setup()\n",
    "        \n",
    "    def setup(self):\n",
    "        self.B['index'] = []\n",
    "        self.N['index'] = []\n",
    "        \n",
    "        for i in range(0, self.A.shape[1] - 1):\n",
    "            if self.A[0, i] != 0: self.N['index'].append(i+1)\n",
    "            else: self.B['index'].append(i+1)\n",
    "            \n",
    "        self.B['cb'] = np.zeros((len(self.B['index'])))\n",
    "        self.N['cn'] = np.zeros((len(self.N['index'])))\n",
    "\n",
    "        for i in range(0, len(self.N['cn'])):\n",
    "            self.N['cn'][i] = self.A[0, self.N['index'][i] - 1]\n",
    "            \n",
    "        self.B['B'] = np.zeros((self.A.shape[0] - 1, self.A.shape[0] - 1))\n",
    "        self.N['N'] = np.zeros((self.A.shape[0] - 1, self.A.shape[0] - 1))\n",
    "        \n",
    "        for i in range(1, self.A.shape[0]):\n",
    "            for j in range(0, self.A.shape[0] - 1):\n",
    "                self.B['B'][i - 1][j] = self.A[i, self.B['index'][j] - 1]\n",
    "                self.N['N'][i - 1][j] = self.A[i, self.N['index'][j] - 1]\n",
    "        \n",
    "        self.xb = np.linalg.inv(self.B['B']).dot(A[1:, -1])\n",
    "        \n",
    "    def set_nb(self):\n",
    "        for i in range(1, self.A.shape[0]):\n",
    "            for j in range(0, self.A.shape[0] - 1):\n",
    "                self.B['B'][i - 1][j] = self.A[i, self.B['index'][j] - 1]\n",
    "                self.N['N'][i - 1][j] = self.A[i, self.N['index'][j] - 1]\n",
    "    \n",
    "    def set_c(self):\n",
    "        for i in range(0, len(self.N['cn'])):\n",
    "            self.N['cn'][i] = self.A[0, self.N['index'][i] - 1]\n",
    "        for i in range(0, len(self.B['cb'])):\n",
    "            self.B['cb'][i] = self.A[0, self.B['index'][i] - 1]\n",
    "    \n",
    "    def step(self, full=False):\n",
    "        self.set_nb()\n",
    "        self.set_c()\n",
    "        lambda_ = np.linalg.inv(self.B['B']).transpose().dot(self.B['cb'])\n",
    "        sn = self.N['cn'] - self.N['N'].transpose().dot(lambda_)\n",
    "        \n",
    "        comp = 0\n",
    "        q = 0\n",
    "        for i in range(0, sn.shape[0]):\n",
    "            if sn[i] < comp: \n",
    "                comp = sn[i]\n",
    "                q = i + 1\n",
    "        \n",
    "        if comp < 0:\n",
    "            d = np.linalg.inv(self.B['B']).dot(A[1:, q - 1])\n",
    "            \n",
    "            if (d > 0).all():\n",
    "                z = np.divide(self.xb, d)\n",
    "                \n",
    "                p = np.argmin(z) + 1\n",
    "                xq = z[p - 1]\n",
    "                \n",
    "                self.xb = self.xb - d*xq\n",
    "                self.xb[p - 1] = xq\n",
    "                \n",
    "                out = self.B['index'][p - 1]\n",
    "                self.B['index'][p - 1] = q\n",
    "                self.N['index'][q - 1] = out\n",
    "                \n",
    "                if full: \n",
    "                    self.steps += 1\n",
    "                    self.step(full)\n",
    "                else:\n",
    "                    self.print(lambda_, sn)\n",
    "                    self.steps += 1\n",
    "            \n",
    "            else: \n",
    "                print('Unbounded: \\n')\n",
    "                self.print(lambda_, sn)\n",
    "        else: \n",
    "            print('Optimal found: \\n')\n",
    "            self.print(lambda_, sn)  \n",
    "\n",
    "    def print(self, lambda_, sn):\n",
    "        print('B-index: ', self.B['index'])\n",
    "        print('N-index: ', self.N['index'])\n",
    "        print('xb: ', self.xb)\n",
    "        print('lambda: ', lambda_)\n",
    "        print('sn: ', sn)\n",
    "        print('Iterations: ', self.steps)"
   ]
  },
  {
   "cell_type": "code",
   "execution_count": 3,
   "metadata": {},
   "outputs": [],
   "source": [
    "#Example 13.1, p. 371    \n",
    "A = np.array([[-4, -2, 0, 0, 0],\n",
    "              [1, 1, 1, 0, 5],\n",
    "              [2, 0.5, 0, 1, 8]])"
   ]
  },
  {
   "cell_type": "code",
   "execution_count": 4,
   "metadata": {},
   "outputs": [
    {
     "name": "stdout",
     "output_type": "stream",
     "text": [
      "Optimal found: \n",
      "\n",
      "B-index:  [2, 1]\n",
      "N-index:  [4, 3]\n",
      "xb:  [1.33333333 3.66666667]\n",
      "lambda:  [-1.33333333 -1.33333333]\n",
      "sn:  [1.33333333 1.33333333]\n",
      "Iterations:  3\n"
     ]
    }
   ],
   "source": [
    "s = simplex(A).step(True)"
   ]
  },
  {
   "cell_type": "code",
   "execution_count": null,
   "metadata": {},
   "outputs": [],
   "source": []
  }
 ],
 "metadata": {
  "kernelspec": {
   "display_name": "Python 3",
   "language": "python",
   "name": "python3"
  },
  "language_info": {
   "codemirror_mode": {
    "name": "ipython",
    "version": 3
   },
   "file_extension": ".py",
   "mimetype": "text/x-python",
   "name": "python",
   "nbconvert_exporter": "python",
   "pygments_lexer": "ipython3",
   "version": "3.6.5"
  }
 },
 "nbformat": 4,
 "nbformat_minor": 2
}
